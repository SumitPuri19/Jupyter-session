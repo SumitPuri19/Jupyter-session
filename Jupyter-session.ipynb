{
 "cells": [
  {
   "cell_type": "markdown",
   "id": "d1516c92-fbe5-4801-a25b-ebab75a7f149",
   "metadata": {},
   "source": [
    "Jupyter session"
   ]
  },
  {
   "cell_type": "markdown",
   "id": "a77ea10d-5e12-492d-bfd9-0c99f985e5fd",
   "metadata": {},
   "source": [
    "This is an assignment for the jupyter session \n",
    "In this, I have performed basic Jupyter operations"
   ]
  },
  {
   "cell_type": "markdown",
   "id": "04894ddd-4e71-4e5e-b66b-8bd0855fcc27",
   "metadata": {},
   "source": [
    "Data Science Languages:\n",
    "1. Python\n",
    "2. R\n",
    "3. Scala\n",
    "4. Julia"
   ]
  },
  {
   "cell_type": "markdown",
   "id": "4efc2122-e2eb-4ce8-83f1-53fa0ad31409",
   "metadata": {},
   "source": [
    "Data Science Libraries:\n",
    "1. pandas\n",
    "2. numpy\n",
    "3. scikit learn\n",
    "4. ggplot\n",
    "5. matplotlib\n",
    "6. seaborn"
   ]
  },
  {
   "cell_type": "markdown",
   "id": "9e60ced6-138c-4cbb-ac2f-ed292b980ba2",
   "metadata": {},
   "source": [
    "Data Science Tools:\n",
    "|Sr.No|Tools|\n",
    "|----|----|\n",
    "|1|Seka|\n",
    "|2|Apache spark|\n",
    "|3|Tensor Flow|\n",
    "|4|Knime|\n",
    "|5|Tableau|"
   ]
  },
  {
   "cell_type": "markdown",
   "id": "0888838f-0ace-4f63-abc6-a2176f365f9c",
   "metadata": {},
   "source": [
    "Basic Arithmetic Expressions\n",
    "> 7 + 5\n",
    ">>12\n",
    "\n",
    "> 42 / 2\n",
    ">>21.0\n",
    "\n",
    "> 5 == 5\n",
    ">>True"
   ]
  },
  {
   "cell_type": "code",
   "execution_count": 1,
   "id": "8722eb16-0327-4811-878d-73772b7293eb",
   "metadata": {},
   "outputs": [
    {
     "data": {
      "text/plain": [
       "10"
      ]
     },
     "execution_count": 1,
     "metadata": {},
     "output_type": "execute_result"
    }
   ],
   "source": [
    "#add\n",
    "5 + 5"
   ]
  },
  {
   "cell_type": "code",
   "execution_count": 2,
   "id": "48723525-8f81-4029-b96c-c27344bc5604",
   "metadata": {},
   "outputs": [
    {
     "data": {
      "text/plain": [
       "25"
      ]
     },
     "execution_count": 2,
     "metadata": {},
     "output_type": "execute_result"
    }
   ],
   "source": [
    "#multiply\n",
    "5 * 5"
   ]
  },
  {
   "cell_type": "code",
   "execution_count": 3,
   "id": "8e423946-842c-4f68-8936-5154f763a4cf",
   "metadata": {},
   "outputs": [
    {
     "name": "stdout",
     "output_type": "stream",
     "text": [
      "2.0\n"
     ]
    }
   ],
   "source": [
    "min = 120\n",
    "hours = min / 60\n",
    "\n",
    "print(hours)"
   ]
  },
  {
   "cell_type": "markdown",
   "id": "f0841a9c-fc12-4ec8-a2fe-5c87cd58102d",
   "metadata": {},
   "source": [
    "Objectives:\n",
    "1. To learn Jupyter\n",
    "2. To learn basic operations\n",
    "3. To get familarized with github"
   ]
  },
  {
   "cell_type": "markdown",
   "id": "1026b552-0aa6-4738-82d0-0b0750dd38c7",
   "metadata": {},
   "source": [
    "# Authors Name: Sumit Chandan Puri"
   ]
  },
  {
   "cell_type": "code",
   "execution_count": null,
   "id": "2081a6b0-d33f-4783-baab-83bc992cc5fd",
   "metadata": {},
   "outputs": [],
   "source": []
  }
 ],
 "metadata": {
  "kernelspec": {
   "display_name": "Python 3 (ipykernel)",
   "language": "python",
   "name": "python3"
  },
  "language_info": {
   "codemirror_mode": {
    "name": "ipython",
    "version": 3
   },
   "file_extension": ".py",
   "mimetype": "text/x-python",
   "name": "python",
   "nbconvert_exporter": "python",
   "pygments_lexer": "ipython3",
   "version": "3.10.4"
  }
 },
 "nbformat": 4,
 "nbformat_minor": 5
}
